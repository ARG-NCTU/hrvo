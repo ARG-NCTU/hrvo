{
 "cells": [
  {
   "cell_type": "markdown",
   "metadata": {},
   "source": [
    "## Hybrid Reciprocal Velocity Obstical"
   ]
  },
  {
   "cell_type": "markdown",
   "metadata": {},
   "source": [
    "import library"
   ]
  },
  {
   "cell_type": "markdown",
   "metadata": {},
   "source": [
    "RVO : it provides VO , RVO , HRVO method"
   ]
  },
  {
   "cell_type": "markdown",
   "metadata": {},
   "source": [
    "vis : visualization tool"
   ]
  },
  {
   "cell_type": "markdown",
   "metadata": {},
   "source": [
    "cv2 : visualization tool"
   ]
  },
  {
   "cell_type": "code",
   "execution_count": 1,
   "metadata": {},
   "outputs": [],
   "source": [
    "import sys\n",
    "from RVO import RVO_update, reach, compute_V_des, reach\n",
    "from vis import visualize_traj_dynamic\n",
    "import cv2"
   ]
  },
  {
   "cell_type": "markdown",
   "metadata": {},
   "source": [
    "define workspace model\n",
    "------------"
   ]
  },
  {
   "cell_type": "code",
   "execution_count": 2,
   "metadata": {},
   "outputs": [],
   "source": [
    "ws_model = dict()"
   ]
  },
  {
   "cell_type": "markdown",
   "metadata": {},
   "source": [
    "robot radius\n",
    "-----"
   ]
  },
  {
   "cell_type": "code",
   "execution_count": 3,
   "metadata": {},
   "outputs": [],
   "source": [
    "ws_model['robot_radius'] = 0.3"
   ]
  },
  {
   "cell_type": "markdown",
   "metadata": {},
   "source": [
    "circular obstacles, format [x,y,rad]\n",
    "--------"
   ]
  },
  {
   "cell_type": "markdown",
   "metadata": {},
   "source": [
    "with obstacles"
   ]
  },
  {
   "cell_type": "markdown",
   "metadata": {},
   "source": [
    "    ws_model['circular_obstacles'] = [[-0.3, 2.5, 0.3], [1.5, 2.5, 0.3], [3.3, 2.5, 0.3], [5.1, 2.5, 0.3]]\n",
    "    "
   ]
  },
  {
   "cell_type": "markdown",
   "metadata": {},
   "source": [
    "no obstacles"
   ]
  },
  {
   "cell_type": "markdown",
   "metadata": {},
   "source": [
    "    ws_model['circular_obstacles'] = []"
   ]
  },
  {
   "cell_type": "code",
   "execution_count": 4,
   "metadata": {},
   "outputs": [],
   "source": [
    "ws_model['circular_obstacles'] = []"
   ]
  },
  {
   "cell_type": "markdown",
   "metadata": {},
   "source": [
    "rectangular boundary, format [x,y,width/2,heigth/2]\n",
    "--------"
   ]
  },
  {
   "cell_type": "code",
   "execution_count": 5,
   "metadata": {},
   "outputs": [],
   "source": [
    "ws_model['boundary'] = [] "
   ]
  },
  {
   "cell_type": "markdown",
   "metadata": {},
   "source": [
    "initialization for robot\n",
    "------"
   ]
  },
  {
   "cell_type": "markdown",
   "metadata": {},
   "source": [
    "position of [x,y]"
   ]
  },
  {
   "cell_type": "code",
   "execution_count": 6,
   "metadata": {},
   "outputs": [],
   "source": [
    "X = [[5,5],[5,0],[0,0],[0,5]]"
   ]
  },
  {
   "cell_type": "markdown",
   "metadata": {},
   "source": [
    "velocity of [vx,vy]"
   ]
  },
  {
   "cell_type": "code",
   "execution_count": 7,
   "metadata": {},
   "outputs": [
    {
     "ename": "NameError",
     "evalue": "name 'xrange' is not defined",
     "output_type": "error",
     "traceback": [
      "\u001b[0;31m---------------------------------------------------------------------------\u001b[0m",
      "\u001b[0;31mNameError\u001b[0m                                 Traceback (most recent call last)",
      "\u001b[1;32m/home/bory/robotx-2022/catkin_ws/src/hrvo_ros/src/HRVO.ipynb Cell 23'\u001b[0m in \u001b[0;36m<cell line: 1>\u001b[0;34m()\u001b[0m\n\u001b[0;32m----> <a href='vscode-notebook-cell:/home/bory/robotx-2022/catkin_ws/src/hrvo_ros/src/HRVO.ipynb#ch0000022?line=0'>1</a>\u001b[0m V \u001b[39m=\u001b[39m [[\u001b[39m0\u001b[39m,\u001b[39m0\u001b[39m] \u001b[39mfor\u001b[39;00m i \u001b[39min\u001b[39;00m xrange(\u001b[39mlen\u001b[39m(X))]\n",
      "\u001b[0;31mNameError\u001b[0m: name 'xrange' is not defined"
     ]
    }
   ],
   "source": [
    "V = [[0,0] for i in xrange(len(X))]"
   ]
  },
  {
   "cell_type": "markdown",
   "metadata": {},
   "source": [
    "maximal velocity norm"
   ]
  },
  {
   "cell_type": "code",
   "execution_count": 8,
   "metadata": {},
   "outputs": [
    {
     "ename": "NameError",
     "evalue": "name 'xrange' is not defined",
     "output_type": "error",
     "traceback": [
      "\u001b[0;31m---------------------------------------------------------------------------\u001b[0m",
      "\u001b[0;31mNameError\u001b[0m                                 Traceback (most recent call last)",
      "\u001b[1;32m/home/bory/robotx-2022/catkin_ws/src/hrvo_ros/src/HRVO.ipynb Cell 25'\u001b[0m in \u001b[0;36m<cell line: 1>\u001b[0;34m()\u001b[0m\n\u001b[0;32m----> <a href='vscode-notebook-cell:/home/bory/robotx-2022/catkin_ws/src/hrvo_ros/src/HRVO.ipynb#ch0000024?line=0'>1</a>\u001b[0m V_max \u001b[39m=\u001b[39m [\u001b[39m1\u001b[39m \u001b[39mfor\u001b[39;00m i \u001b[39min\u001b[39;00m xrange(\u001b[39mlen\u001b[39m(X))]\n",
      "\u001b[0;31mNameError\u001b[0m: name 'xrange' is not defined"
     ]
    }
   ],
   "source": [
    "V_max = [1 for i in xrange(len(X))]"
   ]
  },
  {
   "cell_type": "markdown",
   "metadata": {},
   "source": [
    "goal of [x,y]"
   ]
  },
  {
   "cell_type": "code",
   "execution_count": 9,
   "metadata": {},
   "outputs": [],
   "source": [
    "goal = [[0,0],[0,5],[5,5],[5,0]]"
   ]
  },
  {
   "cell_type": "markdown",
   "metadata": {},
   "source": [
    "simulation setup\n",
    "-------"
   ]
  },
  {
   "cell_type": "markdown",
   "metadata": {},
   "source": [
    "total simulation time (s)"
   ]
  },
  {
   "cell_type": "code",
   "execution_count": 10,
   "metadata": {},
   "outputs": [],
   "source": [
    "total_time = 15"
   ]
  },
  {
   "cell_type": "markdown",
   "metadata": {},
   "source": [
    "simulation step"
   ]
  },
  {
   "cell_type": "code",
   "execution_count": 11,
   "metadata": {},
   "outputs": [],
   "source": [
    "step = 0.01"
   ]
  },
  {
   "cell_type": "markdown",
   "metadata": {},
   "source": [
    "simulation starts\n",
    "----"
   ]
  },
  {
   "cell_type": "code",
   "execution_count": null,
   "metadata": {},
   "outputs": [],
   "source": [
    "t = 0\n",
    "while t*step < total_time:\n",
    "    # compute desired vel to goal\n",
    "    V_des = compute_V_des(X, goal, V_max)\n",
    "    # compute the optimal vel to avoid collision\n",
    "    V = RVO_update(X, V_des, V, ws_model)\n",
    "    # update position\n",
    "    for i in xrange(len(X)):\n",
    "        X[i][0] += V[i][0]*step\n",
    "        X[i][1] += V[i][1]*step\n",
    "    #----------------------------------------\n",
    "    # visualization\n",
    "    if t%10 == 0:\n",
    "        #visualize_traj_dynamic(ws_model, X, V, goal, time=t*step, name='data/snap%s.pdf'%str(t/10))\n",
    "        visualize_traj_dynamic(ws_model, X, V, goal, time=t*step, name='data/snap%s.png'%str(t/10))\n",
    "        #print (\"output result \",t/10)\n",
    "        img = cv2.imread(\"data/snap%s.png\"%str(t/10))\n",
    "        \n",
    "        #show output image\n",
    "        heigth , width , _ = img.shape\n",
    "        img = cv2.resize(img,(width/2,heigth/2))\n",
    "        cv2.imshow(\"hrvo_demo\",img)\n",
    "        cv2.waitKey(1)\n",
    "    t += 1"
   ]
  },
  {
   "cell_type": "code",
   "execution_count": 44,
   "metadata": {},
   "outputs": [],
   "source": [
    "        \n",
    "    def line_obstacle(startpoint,endpoint):\n",
    "        import matplotlib.pyplot as plt\n",
    "        start = (startpoint[0],startpoint[1])\n",
    "        end = (endpoint[0],endpoint[1])\n",
    "        radius = 5\n",
    "        ws_model = dict()\n",
    "        ws_model['circular_obstacles'] = []\n",
    "        x_difference = start[0]-end[0]\n",
    "        y_difference = start[1]-end[1]\n",
    "        figure, axes = plt.subplots()\n",
    "\n",
    "        if(abs(x_difference) > abs(y_difference)):\n",
    "            point_diff = int(abs(x_difference)/radius)\n",
    "        else:\n",
    "            point_diff = int(abs(y_difference)/radius)\n",
    "\n",
    "        for point in range(point_diff+1):\n",
    "            #print(point)\n",
    "            ws_model['circular_obstacles'].append((start[0]-((x_difference/point_diff)*point),start[1]-((y_difference/point_diff)*point),radius))\n",
    "            draw_circle = plt.Circle(((start[0]-((x_difference/point_diff)*point), start[1]-((y_difference/point_diff)*point))), radius,fill=False)\n",
    "            axes.add_artist(draw_circle)\n",
    "\n",
    "        print(ws_model['circular_obstacles'])\n",
    "\n",
    "\n",
    "\n",
    "        axes.set_aspect(1)\n",
    "        # axes.add_artist(draw_circle)\n",
    "        plt.title('Circle')\n",
    "        plt.xlim((-50,50))\n",
    "        plt.ylim((-100,-200))\n",
    "        plt.show()\n",
    "\n",
    "\n"
   ]
  },
  {
   "cell_type": "code",
   "execution_count": 51,
   "metadata": {},
   "outputs": [
    {
     "name": "stdout",
     "output_type": "stream",
     "text": [
      "<class 'list'>\n",
      "[(6.5, -170.0, 5), (6.733333333333333, -164.75, 5), (6.966666666666667, -159.5, 5), (7.2, -154.25, 5), (7.433333333333334, -149.0, 5), (7.666666666666667, -143.75, 5), (7.9, -138.5, 5), (8.133333333333333, -133.25, 5), (8.366666666666667, -128.0, 5), (8.600000000000001, -122.75, 5), (8.833333333333334, -117.5, 5), (9.066666666666666, -112.25, 5), (9.3, -107.0, 5)]\n"
     ]
    },
    {
     "name": "stderr",
     "output_type": "stream",
     "text": [
      "/tmp/ipykernel_8913/1242076699.py:4: YAMLLoadWarning: calling yaml.load() without Loader=... is deprecated, as the default Loader is unsafe. Please read https://msg.pyyaml.org/load for full details.\n",
      "  data = yaml.load(f)\n"
     ]
    },
    {
     "data": {
      "image/png": "[encoded data removed]",
      "text/plain": [
       "<Figure size 432x288 with 1 Axes>"
      ]
     },
     "metadata": {
      "needs_background": "light"
     },
     "output_type": "display_data"
    }
   ],
   "source": [
    "import yaml\n",
    "\n",
    "with open('obstacle.yaml', 'r') as f:\n",
    "    data = yaml.load(f)\n",
    "\n",
    "print(type(data[\"start_point1\"]))\n",
    "\n",
    "line_obstacle(data[\"start_point1\"],data[\"end_point1\"])"
   ]
  }
 ],
 "metadata": {
  "interpreter": {
   "hash": "916dbcbb3f70747c44a77c7bcd40155683ae19c65e1c03b4aa3499c5328201f1"
  },
  "kernelspec": {
   "display_name": "Python 3.8.10 64-bit",
   "language": "python",
   "name": "python3"
  },
  "language_info": {
   "codemirror_mode": {
    "name": "ipython",
    "version": 3
   },
   "file_extension": ".py",
   "mimetype": "text/x-python",
   "name": "python",
   "nbconvert_exporter": "python",
   "pygments_lexer": "ipython3",
   "version": "3.8.10"
  }
 },
 "nbformat": 4,
 "nbformat_minor": 2
}
